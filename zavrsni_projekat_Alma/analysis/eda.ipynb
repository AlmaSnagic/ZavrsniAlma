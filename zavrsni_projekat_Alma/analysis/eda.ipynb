{
 "cells": [
  {
   "cell_type": "code",
   "execution_count": null,
   "id": "c6af3bda",
   "metadata": {},
   "outputs": [],
   "source": [
    "import pandas as pd\n",
    "from sqlalchemy import create_engine\n",
    "import matplotlib.pyplot as plt\n",
    "import seaborn as sns\n",
    "from sklearn.preprocessing import MinMaxScaler\n",
    "import numpy as np\n",
    "\n"
   ]
  },
  {
   "cell_type": "code",
   "execution_count": null,
   "id": "13e1e244",
   "metadata": {},
   "outputs": [],
   "source": [
    "connection_string = \"mssql+pyodbc://DESKTOP-36F1SCR\\SQLEXPRESS/Wine?driver=ODBC+Driver+18+for+SQL+Server&TrustServerCertificate=yes\"\n",
    "\n",
    "engine = create_engine(connection_string)\n",
    "# Učitavanje podataka iz tabele\n",
    "df = pd.read_sql_query(\"SELECT * FROM winequality_red\", con=engine)\n",
    "\n",
    "# Prikaz prvih 5 redova\n",
    "df.head()"
   ]
  },
  {
   "cell_type": "code",
   "execution_count": null,
   "id": "5f468418",
   "metadata": {},
   "outputs": [],
   "source": [
    "df.info()\n"
   ]
  },
  {
   "cell_type": "code",
   "execution_count": null,
   "id": "144408c7",
   "metadata": {},
   "outputs": [],
   "source": [
    "df.describe()\n"
   ]
  },
  {
   "cell_type": "code",
   "execution_count": null,
   "id": "32619fd0",
   "metadata": {},
   "outputs": [],
   "source": [
    "df.isnull().sum()\n"
   ]
  },
  {
   "cell_type": "code",
   "execution_count": null,
   "id": "081f4644",
   "metadata": {},
   "outputs": [],
   "source": [
    "df.nunique()"
   ]
  },
  {
   "cell_type": "code",
   "execution_count": null,
   "id": "c4ab1044",
   "metadata": {},
   "outputs": [],
   "source": [
    "df[\"quality\"].mean()"
   ]
  },
  {
   "cell_type": "code",
   "execution_count": null,
   "id": "5fe04199",
   "metadata": {},
   "outputs": [],
   "source": [
    "df[df[\"quality\"] > 7]"
   ]
  },
  {
   "cell_type": "code",
   "execution_count": null,
   "id": "6d6a38dc",
   "metadata": {},
   "outputs": [],
   "source": [
    "df.groupby('alcohol')['quality'].sum()"
   ]
  },
  {
   "cell_type": "code",
   "execution_count": null,
   "id": "afa284e9",
   "metadata": {},
   "outputs": [],
   "source": [
    "df.shape"
   ]
  },
  {
   "cell_type": "code",
   "execution_count": null,
   "id": "da245ce8",
   "metadata": {},
   "outputs": [],
   "source": [
    "sns.pairplot(data=df)"
   ]
  },
  {
   "cell_type": "code",
   "execution_count": null,
   "id": "c875746d",
   "metadata": {},
   "outputs": [],
   "source": [
    "df.corr()"
   ]
  },
  {
   "cell_type": "code",
   "execution_count": null,
   "id": "2b996584",
   "metadata": {},
   "outputs": [],
   "source": [
    "# Heatmap za korelacije\n",
    "plt.figure(figsize=(12, 8))  \n",
    "sns.heatmap(df.corr(),  annot=True, fmt=\".2f\", cmap='coolwarm', linewidths=0.5, linecolor='gray', cbar=True, annot_kws={\"size\":10})    \n",
    "plt.xticks(rotation=45, ha='right')  \n",
    "plt.yticks(rotation=0)\n",
    "plt.tight_layout()                   \n",
    "plt.show()"
   ]
  },
  {
   "cell_type": "code",
   "execution_count": null,
   "id": "b6917891",
   "metadata": {},
   "outputs": [],
   "source": [
    "df.columns"
   ]
  },
  {
   "cell_type": "code",
   "execution_count": null,
   "id": "dc2651d1",
   "metadata": {},
   "outputs": [],
   "source": [
    "# Histogram\n",
    "df['quality'].hist()"
   ]
  },
  {
   "cell_type": "code",
   "execution_count": null,
   "id": "2f532771",
   "metadata": {},
   "outputs": [],
   "source": [
    "\n",
    "#Boxplot\n",
    "scaler = MinMaxScaler()\n",
    "df['alcohol_normalized'] = scaler.fit_transform(df[['alcohol']])\n",
    "df['alcohol_bin'] = pd.cut(df['alcohol_normalized'], bins=6, labels=False)\n",
    "\n",
    "plt.figure(figsize=(12,7))\n",
    "sns.boxplot(x='alcohol_bin', y='quality', data=df,\n",
    "            palette=\"Set2\", linewidth=1.2, showfliers=True)\n",
    "\n",
    "plt.xlabel('Normalized Alcohol (binned)', fontsize=14)\n",
    "plt.ylabel('Quality', fontsize=14)\n",
    "plt.title('Boxplot of Normalized Alcohol (Binned) by Wine Quality', fontsize=16, fontweight='bold')\n",
    "plt.tight_layout()\n",
    "plt.show()"
   ]
  },
  {
   "cell_type": "code",
   "execution_count": null,
   "id": "b0d18fc8",
   "metadata": {},
   "outputs": [],
   "source": [
    "# Scatter plot\n",
    "sns.scatterplot(x=\"fixed acidity\", y=\"alcohol\", hue=\"quality\", data=df)"
   ]
  },
  {
   "cell_type": "code",
   "execution_count": null,
   "id": "54ef8860",
   "metadata": {},
   "outputs": [],
   "source": [
    "df.columns\n"
   ]
  },
  {
   "cell_type": "code",
   "execution_count": null,
   "id": "074a4576",
   "metadata": {},
   "outputs": [],
   "source": [
    "sns.boxplot(data=df[['fixed acidity', 'volatile acidity', 'citric acid', 'residual sugar',\n",
    "        'alcohol', 'quality']])"
   ]
  }
 ],
 "metadata": {
  "kernelspec": {
   "display_name": "Python 3",
   "language": "python",
   "name": "python3"
  },
  "language_info": {
   "codemirror_mode": {
    "name": "ipython",
    "version": 3
   },
   "file_extension": ".py",
   "mimetype": "text/x-python",
   "name": "python",
   "nbconvert_exporter": "python",
   "pygments_lexer": "ipython3",
   "version": "3.13.0"
  }
 },
 "nbformat": 4,
 "nbformat_minor": 5
}
